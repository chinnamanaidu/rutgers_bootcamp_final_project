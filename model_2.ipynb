{
 "cells": [
  {
   "cell_type": "code",
   "execution_count": 1,
   "metadata": {},
   "outputs": [],
   "source": [
    "# Set the seed value for the notebook so the results are reproducible\n",
    "from numpy.random import seed\n",
    "seed(1)\n",
    "import numpy as np\n",
    "import pandas as pd\n",
    "import matplotlib.pyplot as plt\n",
    "from sklearn.neighbors import KNeighborsClassifier\n",
    "\n",
    "import os\n",
    "\n",
    "import warnings\n",
    "warnings.simplefilter('ignore', FutureWarning)"
   ]
  },
  {
   "cell_type": "markdown",
   "metadata": {},
   "source": [
    "# Read the CSV and Perform Basic Data Cleaning"
   ]
  },
  {
   "cell_type": "code",
   "execution_count": 6,
   "metadata": {},
   "outputs": [
    {
     "data": {
      "text/html": [
       "<div>\n",
       "<style scoped>\n",
       "    .dataframe tbody tr th:only-of-type {\n",
       "        vertical-align: middle;\n",
       "    }\n",
       "\n",
       "    .dataframe tbody tr th {\n",
       "        vertical-align: top;\n",
       "    }\n",
       "\n",
       "    .dataframe thead th {\n",
       "        text-align: right;\n",
       "    }\n",
       "</style>\n",
       "<table border=\"1\" class=\"dataframe\">\n",
       "  <thead>\n",
       "    <tr style=\"text-align: right;\">\n",
       "      <th></th>\n",
       "      <th>Date</th>\n",
       "      <th>Open</th>\n",
       "      <th>High</th>\n",
       "      <th>Low</th>\n",
       "      <th>Close</th>\n",
       "      <th>Adj Close</th>\n",
       "      <th>Volume</th>\n",
       "    </tr>\n",
       "  </thead>\n",
       "  <tbody>\n",
       "    <tr>\n",
       "      <th>0</th>\n",
       "      <td>2016-01-19</td>\n",
       "      <td>51.480000</td>\n",
       "      <td>51.680000</td>\n",
       "      <td>50.060001</td>\n",
       "      <td>50.560001</td>\n",
       "      <td>46.137611</td>\n",
       "      <td>43564500</td>\n",
       "    </tr>\n",
       "    <tr>\n",
       "      <th>1</th>\n",
       "      <td>2016-01-20</td>\n",
       "      <td>49.980000</td>\n",
       "      <td>51.380001</td>\n",
       "      <td>49.099998</td>\n",
       "      <td>50.790001</td>\n",
       "      <td>46.347496</td>\n",
       "      <td>63273000</td>\n",
       "    </tr>\n",
       "    <tr>\n",
       "      <th>2</th>\n",
       "      <td>2016-01-21</td>\n",
       "      <td>51.000000</td>\n",
       "      <td>51.580002</td>\n",
       "      <td>50.299999</td>\n",
       "      <td>50.480000</td>\n",
       "      <td>46.064606</td>\n",
       "      <td>40191200</td>\n",
       "    </tr>\n",
       "    <tr>\n",
       "      <th>3</th>\n",
       "      <td>2016-01-22</td>\n",
       "      <td>51.410000</td>\n",
       "      <td>52.330002</td>\n",
       "      <td>51.259998</td>\n",
       "      <td>52.290001</td>\n",
       "      <td>47.716290</td>\n",
       "      <td>37555800</td>\n",
       "    </tr>\n",
       "    <tr>\n",
       "      <th>4</th>\n",
       "      <td>2016-01-25</td>\n",
       "      <td>51.939999</td>\n",
       "      <td>52.650002</td>\n",
       "      <td>51.650002</td>\n",
       "      <td>51.790001</td>\n",
       "      <td>47.260017</td>\n",
       "      <td>34707700</td>\n",
       "    </tr>\n",
       "  </tbody>\n",
       "</table>\n",
       "</div>"
      ],
      "text/plain": [
       "         Date       Open       High        Low      Close  Adj Close    Volume\n",
       "0  2016-01-19  51.480000  51.680000  50.060001  50.560001  46.137611  43564500\n",
       "1  2016-01-20  49.980000  51.380001  49.099998  50.790001  46.347496  63273000\n",
       "2  2016-01-21  51.000000  51.580002  50.299999  50.480000  46.064606  40191200\n",
       "3  2016-01-22  51.410000  52.330002  51.259998  52.290001  47.716290  37555800\n",
       "4  2016-01-25  51.939999  52.650002  51.650002  51.790001  47.260017  34707700"
      ]
     },
     "execution_count": 6,
     "metadata": {},
     "output_type": "execute_result"
    }
   ],
   "source": [
    "df = pd.read_csv(\"static/data/MSFT.csv\")\n",
    "# Drop the null columns where all values are null\n",
    "df = df.dropna(axis='columns', how='all')\n",
    "# Drop the null rows\n",
    "df = df.dropna()\n",
    "df.head()"
   ]
  },
  {
   "cell_type": "code",
   "execution_count": 7,
   "metadata": {},
   "outputs": [
    {
     "data": {
      "text/html": [
       "<div>\n",
       "<style scoped>\n",
       "    .dataframe tbody tr th:only-of-type {\n",
       "        vertical-align: middle;\n",
       "    }\n",
       "\n",
       "    .dataframe tbody tr th {\n",
       "        vertical-align: top;\n",
       "    }\n",
       "\n",
       "    .dataframe thead th {\n",
       "        text-align: right;\n",
       "    }\n",
       "</style>\n",
       "<table border=\"1\" class=\"dataframe\">\n",
       "  <thead>\n",
       "    <tr style=\"text-align: right;\">\n",
       "      <th></th>\n",
       "      <th>Open</th>\n",
       "      <th>High</th>\n",
       "      <th>Low</th>\n",
       "      <th>Close</th>\n",
       "      <th>Adj Close</th>\n",
       "      <th>Volume</th>\n",
       "    </tr>\n",
       "  </thead>\n",
       "  <tbody>\n",
       "    <tr>\n",
       "      <th>0</th>\n",
       "      <td>51.480000</td>\n",
       "      <td>51.680000</td>\n",
       "      <td>50.060001</td>\n",
       "      <td>50.560001</td>\n",
       "      <td>46.137611</td>\n",
       "      <td>43564500</td>\n",
       "    </tr>\n",
       "    <tr>\n",
       "      <th>1</th>\n",
       "      <td>49.980000</td>\n",
       "      <td>51.380001</td>\n",
       "      <td>49.099998</td>\n",
       "      <td>50.790001</td>\n",
       "      <td>46.347496</td>\n",
       "      <td>63273000</td>\n",
       "    </tr>\n",
       "    <tr>\n",
       "      <th>2</th>\n",
       "      <td>51.000000</td>\n",
       "      <td>51.580002</td>\n",
       "      <td>50.299999</td>\n",
       "      <td>50.480000</td>\n",
       "      <td>46.064606</td>\n",
       "      <td>40191200</td>\n",
       "    </tr>\n",
       "    <tr>\n",
       "      <th>3</th>\n",
       "      <td>51.410000</td>\n",
       "      <td>52.330002</td>\n",
       "      <td>51.259998</td>\n",
       "      <td>52.290001</td>\n",
       "      <td>47.716290</td>\n",
       "      <td>37555800</td>\n",
       "    </tr>\n",
       "    <tr>\n",
       "      <th>4</th>\n",
       "      <td>51.939999</td>\n",
       "      <td>52.650002</td>\n",
       "      <td>51.650002</td>\n",
       "      <td>51.790001</td>\n",
       "      <td>47.260017</td>\n",
       "      <td>34707700</td>\n",
       "    </tr>\n",
       "  </tbody>\n",
       "</table>\n",
       "</div>"
      ],
      "text/plain": [
       "        Open       High        Low      Close  Adj Close    Volume\n",
       "0  51.480000  51.680000  50.060001  50.560001  46.137611  43564500\n",
       "1  49.980000  51.380001  49.099998  50.790001  46.347496  63273000\n",
       "2  51.000000  51.580002  50.299999  50.480000  46.064606  40191200\n",
       "3  51.410000  52.330002  51.259998  52.290001  47.716290  37555800\n",
       "4  51.939999  52.650002  51.650002  51.790001  47.260017  34707700"
      ]
     },
     "execution_count": 7,
     "metadata": {},
     "output_type": "execute_result"
    }
   ],
   "source": [
    "df = df.drop(columns=['Date'])\n",
    "df.head()"
   ]
  },
  {
   "cell_type": "markdown",
   "metadata": {},
   "source": [
    "# Select your features (columns)"
   ]
  },
  {
   "cell_type": "code",
   "execution_count": 8,
   "metadata": {},
   "outputs": [
    {
     "data": {
      "text/html": [
       "<div>\n",
       "<style scoped>\n",
       "    .dataframe tbody tr th:only-of-type {\n",
       "        vertical-align: middle;\n",
       "    }\n",
       "\n",
       "    .dataframe tbody tr th {\n",
       "        vertical-align: top;\n",
       "    }\n",
       "\n",
       "    .dataframe thead th {\n",
       "        text-align: right;\n",
       "    }\n",
       "</style>\n",
       "<table border=\"1\" class=\"dataframe\">\n",
       "  <thead>\n",
       "    <tr style=\"text-align: right;\">\n",
       "      <th></th>\n",
       "      <th>Open</th>\n",
       "      <th>High</th>\n",
       "      <th>Low</th>\n",
       "      <th>Close</th>\n",
       "      <th>Volume</th>\n",
       "      <th>diff</th>\n",
       "    </tr>\n",
       "  </thead>\n",
       "  <tbody>\n",
       "    <tr>\n",
       "      <th>0</th>\n",
       "      <td>51.480000</td>\n",
       "      <td>51.680000</td>\n",
       "      <td>50.060001</td>\n",
       "      <td>50.560001</td>\n",
       "      <td>43564500</td>\n",
       "      <td>0</td>\n",
       "    </tr>\n",
       "    <tr>\n",
       "      <th>1</th>\n",
       "      <td>49.980000</td>\n",
       "      <td>51.380001</td>\n",
       "      <td>49.099998</td>\n",
       "      <td>50.790001</td>\n",
       "      <td>63273000</td>\n",
       "      <td>1</td>\n",
       "    </tr>\n",
       "    <tr>\n",
       "      <th>2</th>\n",
       "      <td>51.000000</td>\n",
       "      <td>51.580002</td>\n",
       "      <td>50.299999</td>\n",
       "      <td>50.480000</td>\n",
       "      <td>40191200</td>\n",
       "      <td>0</td>\n",
       "    </tr>\n",
       "    <tr>\n",
       "      <th>3</th>\n",
       "      <td>51.410000</td>\n",
       "      <td>52.330002</td>\n",
       "      <td>51.259998</td>\n",
       "      <td>52.290001</td>\n",
       "      <td>37555800</td>\n",
       "      <td>1</td>\n",
       "    </tr>\n",
       "    <tr>\n",
       "      <th>4</th>\n",
       "      <td>51.939999</td>\n",
       "      <td>52.650002</td>\n",
       "      <td>51.650002</td>\n",
       "      <td>51.790001</td>\n",
       "      <td>34707700</td>\n",
       "      <td>0</td>\n",
       "    </tr>\n",
       "  </tbody>\n",
       "</table>\n",
       "</div>"
      ],
      "text/plain": [
       "        Open       High        Low      Close    Volume  diff\n",
       "0  51.480000  51.680000  50.060001  50.560001  43564500     0\n",
       "1  49.980000  51.380001  49.099998  50.790001  63273000     1\n",
       "2  51.000000  51.580002  50.299999  50.480000  40191200     0\n",
       "3  51.410000  52.330002  51.259998  52.290001  37555800     1\n",
       "4  51.939999  52.650002  51.650002  51.790001  34707700     0"
      ]
     },
     "execution_count": 8,
     "metadata": {},
     "output_type": "execute_result"
    }
   ],
   "source": [
    "# Set features. This will also be used as your x values.\n",
    "\n",
    "diff = df['Close']-df[\"Open\"]\n",
    "diff_locations = []\n",
    "for i in diff:\n",
    "    if (i <0):\n",
    "        diff_locations.append(0)\n",
    "    else:\n",
    "        diff_locations.append(1)\n",
    "df['diff'] = pd.DataFrame(diff_locations)\n",
    "df = df[['Open','High', 'Low', 'Close', 'Volume','diff']]\n",
    "#X = df[['High', 'Low', 'Close', 'Volume']]\n",
    "df.head()"
   ]
  },
  {
   "cell_type": "code",
   "execution_count": 9,
   "metadata": {},
   "outputs": [
    {
     "name": "stdout",
     "output_type": "stream",
     "text": [
      "(1259, 5) (1259,)\n"
     ]
    }
   ],
   "source": [
    "y = df[\"diff\"]\n",
    "\n",
    "X = df[['Open','High', 'Low', 'Close', 'Volume']]\n",
    "#X = df[['High', 'Low', 'Close', 'Volume']]\n",
    "print(X.shape, y.shape)"
   ]
  },
  {
   "cell_type": "code",
   "execution_count": 10,
   "metadata": {},
   "outputs": [],
   "source": [
    "target_names = [\"negative\", \"positive\"]"
   ]
  },
  {
   "cell_type": "code",
   "execution_count": 11,
   "metadata": {},
   "outputs": [],
   "source": [
    "from sklearn.model_selection import train_test_split\n",
    "X_train, X_test, y_train, y_test = train_test_split(X, y, random_state=42)"
   ]
  },
  {
   "cell_type": "code",
   "execution_count": 12,
   "metadata": {},
   "outputs": [],
   "source": [
    "from sklearn.preprocessing import StandardScaler\n",
    "\n",
    "# Create a StandardScater model and fit it to the training data\n",
    "\n",
    "X_scaler = StandardScaler().fit(X_train)"
   ]
  },
  {
   "cell_type": "code",
   "execution_count": 13,
   "metadata": {},
   "outputs": [],
   "source": [
    "\n",
    "X_train_scaled = X_scaler.transform(X_train)\n",
    "X_test_scaled = X_scaler.transform(X_test)"
   ]
  },
  {
   "cell_type": "code",
   "execution_count": 14,
   "metadata": {},
   "outputs": [
    {
     "name": "stdout",
     "output_type": "stream",
     "text": [
      "k: 1, Train/Test Score: 1.000/0.537\n",
      "k: 3, Train/Test Score: 0.770/0.524\n",
      "k: 5, Train/Test Score: 0.696/0.530\n",
      "k: 7, Train/Test Score: 0.674/0.552\n",
      "k: 9, Train/Test Score: 0.660/0.568\n",
      "k: 11, Train/Test Score: 0.641/0.575\n",
      "k: 13, Train/Test Score: 0.637/0.562\n",
      "k: 15, Train/Test Score: 0.627/0.540\n",
      "k: 17, Train/Test Score: 0.637/0.527\n",
      "k: 19, Train/Test Score: 0.626/0.565\n"
     ]
    },
    {
     "data": {
      "image/png": "[encoded data removed]",
      "text/plain": [
       "<Figure size 432x288 with 1 Axes>"
      ]
     },
     "metadata": {
      "needs_background": "light"
     },
     "output_type": "display_data"
    }
   ],
   "source": [
    "# Loop through different k values to see which has the highest accuracy\n",
    "# Note: We only use odd numbers because we don't want any ties\n",
    "train_scores = []\n",
    "test_scores = []\n",
    "for k in range(1, 20, 2):\n",
    "    knn = KNeighborsClassifier(n_neighbors=k)\n",
    "    knn.fit(X_train_scaled, y_train)\n",
    "    train_score = knn.score(X_train_scaled, y_train)\n",
    "    test_score = knn.score(X_test_scaled, y_test)\n",
    "    train_scores.append(train_score)\n",
    "    test_scores.append(test_score)\n",
    "    print(f\"k: {k}, Train/Test Score: {train_score:.3f}/{test_score:.3f}\")\n",
    "    \n",
    "    \n",
    "plt.plot(range(1, 20, 2), train_scores, marker='o')\n",
    "plt.plot(range(1, 20, 2), test_scores, marker=\"x\")\n",
    "plt.xlabel(\"k neighbors\")\n",
    "plt.ylabel(\"Testing accuracy Score\")\n",
    "plt.show()"
   ]
  },
  {
   "cell_type": "code",
   "execution_count": 15,
   "metadata": {},
   "outputs": [
    {
     "name": "stdout",
     "output_type": "stream",
     "text": [
      "k=13 Test Acc: 0.562\n"
     ]
    }
   ],
   "source": [
    "# Note that k: 13 seems to be the best choice for this dataset\n",
    "knn = KNeighborsClassifier(n_neighbors=13)\n",
    "knn.fit(X_train_scaled, y_train)\n",
    "print('k=13 Test Acc: %.3f' % knn.score(X_test_scaled, y_test))"
   ]
  },
  {
   "cell_type": "markdown",
   "metadata": {},
   "source": [
    "# Save the Model"
   ]
  },
  {
   "cell_type": "code",
   "execution_count": null,
   "metadata": {},
   "outputs": [],
   "source": []
  },
  {
   "cell_type": "code",
   "execution_count": null,
   "metadata": {},
   "outputs": [],
   "source": []
  }
 ],
 "metadata": {
  "kernel_info": {
   "name": "dev"
  },
  "kernelspec": {
   "display_name": "Python 3",
   "language": "python",
   "name": "python3"
  },
  "language_info": {
   "codemirror_mode": {
    "name": "ipython",
    "version": 3
   },
   "file_extension": ".py",
   "mimetype": "text/x-python",
   "name": "python",
   "nbconvert_exporter": "python",
   "pygments_lexer": "ipython3",
   "version": "3.8.3"
  },
  "nteract": {
   "version": "0.12.3"
  }
 },
 "nbformat": 4,
 "nbformat_minor": 2
}
